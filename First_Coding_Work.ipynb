{
  "nbformat": 4,
  "nbformat_minor": 0,
  "metadata": {
    "colab": {
      "provenance": []
    },
    "kernelspec": {
      "name": "python3",
      "display_name": "Python 3"
    },
    "language_info": {
      "name": "python"
    }
  },
  "cells": [
    {
      "cell_type": "code",
      "execution_count": 2,
      "metadata": {
        "id": "Gd8_4blkM1NA"
      },
      "outputs": [],
      "source": [
        "import numpy as np\n",
        "import matplotlib.pyplot as plt\n",
        "from math import cos"
      ]
    },
    {
      "cell_type": "markdown",
      "source": [
        "Equations (18) and (21)"
      ],
      "metadata": {
        "id": "V6HSf3h33LcW"
      }
    },
    {
      "cell_type": "code",
      "source": [
        "E_v = np.linspace( 0 , 5 , 100 )   # Units = GeV\n",
        "\n",
        "E_v_star = 29.8 * ( 10 ** -3 )     # Units = GeV\n",
        "\n",
        "m_pi = 139.6 * ( 10 ** -3 )        # Units = GeV / c ** 2    Where c = 1\n",
        "\n",
        "theta = 0.005\n",
        "\n",
        "\n",
        "E_proton = 120                     # Units = GeV  ( Source = https://en.wikipedia.org/wiki/Fermilab#Fermilab_Accelerator_Complex )"
      ],
      "metadata": {
        "id": "6useO2ttTUva"
      },
      "execution_count": 18,
      "outputs": []
    },
    {
      "cell_type": "code",
      "source": [
        "# Equation 18\n",
        "\n",
        "cos_theta_star = ( 1 - ( E_v ** 2 / E_v_star ** 2 ) * ( ( 1 / ( cos(theta) ) ** 2 ) - 1 ) ) ** ( 1 / 2 )\n",
        "\n",
        "\n",
        "\n",
        "# Equation 21\n",
        "\n",
        "E_pi = ( m_pi * E_v ) / ( E_v_star * ( 1 + cos_theta_star ) )\n"
      ],
      "metadata": {
        "id": "3njQfdsi3J11"
      },
      "execution_count": 19,
      "outputs": []
    },
    {
      "cell_type": "code",
      "source": [],
      "metadata": {
        "id": "EPdqCVT73JxM"
      },
      "execution_count": null,
      "outputs": []
    },
    {
      "cell_type": "code",
      "source": [],
      "metadata": {
        "id": "vjIRe7EZ3JqQ"
      },
      "execution_count": null,
      "outputs": []
    },
    {
      "cell_type": "code",
      "source": [],
      "metadata": {
        "id": "GadLhXPL3JhK"
      },
      "execution_count": null,
      "outputs": []
    },
    {
      "cell_type": "code",
      "source": [],
      "metadata": {
        "id": "ZUANe6u8NAIj"
      },
      "execution_count": null,
      "outputs": []
    }
  ]
}