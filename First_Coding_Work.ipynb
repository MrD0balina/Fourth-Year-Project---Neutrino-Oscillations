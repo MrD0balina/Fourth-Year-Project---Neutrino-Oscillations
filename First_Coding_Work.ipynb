{
  "nbformat": 4,
  "nbformat_minor": 0,
  "metadata": {
    "colab": {
      "provenance": [],
      "authorship_tag": "ABX9TyPogfAdcxZwY1Cx7gBTZyze",
      "include_colab_link": true
    },
    "kernelspec": {
      "name": "python3",
      "display_name": "Python 3"
    },
    "language_info": {
      "name": "python"
    }
  },
  "cells": [
    {
      "cell_type": "markdown",
      "metadata": {
        "id": "view-in-github",
        "colab_type": "text"
      },
      "source": [
        "<a href=\"https://colab.research.google.com/github/MrD0balina/Fourth-Year-Project---Neutrino-Oscillations/blob/main/First_Coding_Work.ipynb\" target=\"_parent\"><img src=\"https://colab.research.google.com/assets/colab-badge.svg\" alt=\"Open In Colab\"/></a>"
      ]
    },
    {
      "cell_type": "code",
      "execution_count": 4,
      "metadata": {
        "id": "Gd8_4blkM1NA"
      },
      "outputs": [],
      "source": [
        "import numpy as np\n",
        "import matplotlib.pyplot as plt\n",
        "from math import cos"
      ]
    },
    {
      "cell_type": "markdown",
      "source": [
        "Equations (18) and (21)"
      ],
      "metadata": {
        "id": "V6HSf3h33LcW"
      }
    },
    {
      "cell_type": "code",
      "source": [
        "# E_v = np.linspace( 0 , 5 , 100 )   # Units = GeV\n",
        "\n",
        "E_v_star = 29.8 * ( 10 ** -3 )     # Units = GeV\n",
        "\n",
        "m_pi = 139.6 * ( 10 ** -3 )        # Units = GeV / c ** 2    Where c = 1\n",
        "\n",
        "theta = 0.01\n",
        "\n",
        "\n",
        "E_proton = 120                     # Units = GeV  ( Source = https://en.wikipedia.org/wiki/Fermilab#Fermilab_Accelerator_Complex )\n",
        "\n",
        "E_v = E_v_star / theta"
      ],
      "metadata": {
        "id": "6useO2ttTUva"
      },
      "execution_count": 22,
      "outputs": []
    },
    {
      "cell_type": "code",
      "source": [
        "display(E_v)"
      ],
      "metadata": {
        "colab": {
          "base_uri": "https://localhost:8080/",
          "height": 34
        },
        "id": "ONE7gE0B9nXz",
        "outputId": "5d4f9083-5258-4ddd-c574-391ecb47d8d9"
      },
      "execution_count": 2,
      "outputs": [
        {
          "output_type": "display_data",
          "data": {
            "text/plain": [
              "0.9933333333333334"
            ]
          },
          "metadata": {}
        }
      ]
    },
    {
      "cell_type": "code",
      "source": [
        "E_v_array = np.linspace( 0 , 20 , 250 )"
      ],
      "metadata": {
        "id": "EPdqCVT73JxM"
      },
      "execution_count": 23,
      "outputs": []
    },
    {
      "cell_type": "code",
      "source": [
        "print(E_v_array)"
      ],
      "metadata": {
        "colab": {
          "base_uri": "https://localhost:8080/"
        },
        "id": "wge76GK79Men",
        "outputId": "3e82b364-805c-409c-8cc4-3ccdb67c0eb9"
      },
      "execution_count": 24,
      "outputs": [
        {
          "output_type": "stream",
          "name": "stdout",
          "text": [
            "[ 0.          0.08032129  0.16064257  0.24096386  0.32128514  0.40160643\n",
            "  0.48192771  0.562249    0.64257028  0.72289157  0.80321285  0.88353414\n",
            "  0.96385542  1.04417671  1.12449799  1.20481928  1.28514056  1.36546185\n",
            "  1.44578313  1.52610442  1.6064257   1.68674699  1.76706827  1.84738956\n",
            "  1.92771084  2.00803213  2.08835341  2.1686747   2.24899598  2.32931727\n",
            "  2.40963855  2.48995984  2.57028112  2.65060241  2.73092369  2.81124498\n",
            "  2.89156627  2.97188755  3.05220884  3.13253012  3.21285141  3.29317269\n",
            "  3.37349398  3.45381526  3.53413655  3.61445783  3.69477912  3.7751004\n",
            "  3.85542169  3.93574297  4.01606426  4.09638554  4.17670683  4.25702811\n",
            "  4.3373494   4.41767068  4.49799197  4.57831325  4.65863454  4.73895582\n",
            "  4.81927711  4.89959839  4.97991968  5.06024096  5.14056225  5.22088353\n",
            "  5.30120482  5.3815261   5.46184739  5.54216867  5.62248996  5.70281124\n",
            "  5.78313253  5.86345382  5.9437751   6.02409639  6.10441767  6.18473896\n",
            "  6.26506024  6.34538153  6.42570281  6.5060241   6.58634538  6.66666667\n",
            "  6.74698795  6.82730924  6.90763052  6.98795181  7.06827309  7.14859438\n",
            "  7.22891566  7.30923695  7.38955823  7.46987952  7.5502008   7.63052209\n",
            "  7.71084337  7.79116466  7.87148594  7.95180723  8.03212851  8.1124498\n",
            "  8.19277108  8.27309237  8.35341365  8.43373494  8.51405622  8.59437751\n",
            "  8.6746988   8.75502008  8.83534137  8.91566265  8.99598394  9.07630522\n",
            "  9.15662651  9.23694779  9.31726908  9.39759036  9.47791165  9.55823293\n",
            "  9.63855422  9.7188755   9.79919679  9.87951807  9.95983936 10.04016064\n",
            " 10.12048193 10.20080321 10.2811245  10.36144578 10.44176707 10.52208835\n",
            " 10.60240964 10.68273092 10.76305221 10.84337349 10.92369478 11.00401606\n",
            " 11.08433735 11.16465863 11.24497992 11.3253012  11.40562249 11.48594378\n",
            " 11.56626506 11.64658635 11.72690763 11.80722892 11.8875502  11.96787149\n",
            " 12.04819277 12.12851406 12.20883534 12.28915663 12.36947791 12.4497992\n",
            " 12.53012048 12.61044177 12.69076305 12.77108434 12.85140562 12.93172691\n",
            " 13.01204819 13.09236948 13.17269076 13.25301205 13.33333333 13.41365462\n",
            " 13.4939759  13.57429719 13.65461847 13.73493976 13.81526104 13.89558233\n",
            " 13.97590361 14.0562249  14.13654618 14.21686747 14.29718876 14.37751004\n",
            " 14.45783133 14.53815261 14.6184739  14.69879518 14.77911647 14.85943775\n",
            " 14.93975904 15.02008032 15.10040161 15.18072289 15.26104418 15.34136546\n",
            " 15.42168675 15.50200803 15.58232932 15.6626506  15.74297189 15.82329317\n",
            " 15.90361446 15.98393574 16.06425703 16.14457831 16.2248996  16.30522088\n",
            " 16.38554217 16.46586345 16.54618474 16.62650602 16.70682731 16.78714859\n",
            " 16.86746988 16.94779116 17.02811245 17.10843373 17.18875502 17.26907631\n",
            " 17.34939759 17.42971888 17.51004016 17.59036145 17.67068273 17.75100402\n",
            " 17.8313253  17.91164659 17.99196787 18.07228916 18.15261044 18.23293173\n",
            " 18.31325301 18.3935743  18.47389558 18.55421687 18.63453815 18.71485944\n",
            " 18.79518072 18.87550201 18.95582329 19.03614458 19.11646586 19.19678715\n",
            " 19.27710843 19.35742972 19.437751   19.51807229 19.59839357 19.67871486\n",
            " 19.75903614 19.83935743 19.91967871 20.        ]\n"
          ]
        }
      ]
    },
    {
      "cell_type": "code",
      "source": [
        "# Equation 18\n",
        "\n",
        "cos_theta_star = ( ( 1 - ( E_v_array ** 2 / ( E_v_star ** 2 ) ) * ( ( 1 / ( ( cos(theta) ) ** 2 ) ) - 1 ) ) ** ( 1 / 2 ) )\n",
        "\n",
        "\n",
        "\n",
        "## # Equation 21\n",
        "\n",
        "## E_pi = ( m_pi * E_v ) / ( E_v_star * ( 1 + cos_theta_star ) )\n"
      ],
      "metadata": {
        "id": "3njQfdsi3J11",
        "colab": {
          "base_uri": "https://localhost:8080/"
        },
        "outputId": "43e28a32-9134-4d22-bcba-cac37d76216f"
      },
      "execution_count": 25,
      "outputs": [
        {
          "output_type": "stream",
          "name": "stderr",
          "text": [
            "<ipython-input-25-65640a04b3a9>:3: RuntimeWarning: invalid value encountered in sqrt\n",
            "  cos_theta_star = ( ( 1 - ( E_v_array ** 2 / ( E_v_star ** 2 ) ) * ( ( 1 / ( ( cos(theta) ) ** 2 ) ) - 1 ) ) ** ( 1 / 2 ) )\n"
          ]
        }
      ]
    },
    {
      "cell_type": "markdown",
      "source": [
        "??????????????????????????????????????????????????????????????????????????????????????????????\n"
      ],
      "metadata": {
        "id": "zFQOu2C_qwcE"
      }
    },
    {
      "cell_type": "code",
      "source": [
        "E_pi =  (  (m_pi * E_v_array )    /  (   E_v_star * ( 1 + cos_theta_star )  )   )"
      ],
      "metadata": {
        "id": "vjIRe7EZ3JqQ"
      },
      "execution_count": 26,
      "outputs": []
    },
    {
      "cell_type": "code",
      "source": [
        "print(E_pi)"
      ],
      "metadata": {
        "id": "GadLhXPL3JhK",
        "colab": {
          "base_uri": "https://localhost:8080/"
        },
        "outputId": "ef3f0f5e-aa08-492d-8db0-351d7bdf161e"
      },
      "execution_count": 27,
      "outputs": [
        {
          "output_type": "stream",
          "name": "stdout",
          "text": [
            "[ 0.          0.18816927  0.37654395  0.56533094  0.75474016  0.94498616\n",
            "  1.13628978  1.32887995  1.52299566  1.71888817  1.91682344  2.11708493\n",
            "  2.31997683  2.52582783  2.73499547  2.94787145  3.16488791  3.38652506\n",
            "  3.61332063  3.84588141  4.08489796  4.33116316  4.58559616  4.84927378\n",
            "  5.12347235  5.40972446  5.70989792  6.02630818  6.36188342  6.72041583\n",
            "  7.10696069  7.5285053   7.99516849  8.52255417  9.1369848   9.88957247\n",
            " 10.90921362 12.97137308         nan         nan         nan         nan\n",
            "         nan         nan         nan         nan         nan         nan\n",
            "         nan         nan         nan         nan         nan         nan\n",
            "         nan         nan         nan         nan         nan         nan\n",
            "         nan         nan         nan         nan         nan         nan\n",
            "         nan         nan         nan         nan         nan         nan\n",
            "         nan         nan         nan         nan         nan         nan\n",
            "         nan         nan         nan         nan         nan         nan\n",
            "         nan         nan         nan         nan         nan         nan\n",
            "         nan         nan         nan         nan         nan         nan\n",
            "         nan         nan         nan         nan         nan         nan\n",
            "         nan         nan         nan         nan         nan         nan\n",
            "         nan         nan         nan         nan         nan         nan\n",
            "         nan         nan         nan         nan         nan         nan\n",
            "         nan         nan         nan         nan         nan         nan\n",
            "         nan         nan         nan         nan         nan         nan\n",
            "         nan         nan         nan         nan         nan         nan\n",
            "         nan         nan         nan         nan         nan         nan\n",
            "         nan         nan         nan         nan         nan         nan\n",
            "         nan         nan         nan         nan         nan         nan\n",
            "         nan         nan         nan         nan         nan         nan\n",
            "         nan         nan         nan         nan         nan         nan\n",
            "         nan         nan         nan         nan         nan         nan\n",
            "         nan         nan         nan         nan         nan         nan\n",
            "         nan         nan         nan         nan         nan         nan\n",
            "         nan         nan         nan         nan         nan         nan\n",
            "         nan         nan         nan         nan         nan         nan\n",
            "         nan         nan         nan         nan         nan         nan\n",
            "         nan         nan         nan         nan         nan         nan\n",
            "         nan         nan         nan         nan         nan         nan\n",
            "         nan         nan         nan         nan         nan         nan\n",
            "         nan         nan         nan         nan         nan         nan\n",
            "         nan         nan         nan         nan         nan         nan\n",
            "         nan         nan         nan         nan         nan         nan\n",
            "         nan         nan         nan         nan         nan         nan\n",
            "         nan         nan         nan         nan]\n"
          ]
        }
      ]
    },
    {
      "cell_type": "code",
      "source": [
        "plt.scatter( E_pi , E_v_array )"
      ],
      "metadata": {
        "id": "ZUANe6u8NAIj",
        "colab": {
          "base_uri": "https://localhost:8080/",
          "height": 447
        },
        "outputId": "5b7aa25b-80ba-45b0-bb07-07fbe20310f6"
      },
      "execution_count": 28,
      "outputs": [
        {
          "output_type": "execute_result",
          "data": {
            "text/plain": [
              "<matplotlib.collections.PathCollection at 0x7e1d08ade950>"
            ]
          },
          "metadata": {},
          "execution_count": 28
        },
        {
          "output_type": "display_data",
          "data": {
            "text/plain": [
              "<Figure size 640x480 with 1 Axes>"
            ],
            "image/png": "[encoded data removed]"
          },
          "metadata": {}
        }
      ]
    },
    {
      "cell_type": "markdown",
      "source": [
        "I have no idea"
      ],
      "metadata": {
        "id": "2oCC9VGzGD-X"
      }
    },
    {
      "cell_type": "code",
      "source": [],
      "metadata": {
        "id": "6HksZXIhEnIX"
      },
      "execution_count": null,
      "outputs": []
    }
  ]
}