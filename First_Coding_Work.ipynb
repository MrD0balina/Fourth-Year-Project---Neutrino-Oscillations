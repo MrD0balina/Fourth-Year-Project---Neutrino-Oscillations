{
  "nbformat": 4,
  "nbformat_minor": 0,
  "metadata": {
    "colab": {
      "provenance": [],
      "authorship_tag": "ABX9TyMCGSZY7EWGLy9A9BOCfySu",
      "include_colab_link": true
    },
    "kernelspec": {
      "name": "python3",
      "display_name": "Python 3"
    },
    "language_info": {
      "name": "python"
    }
  },
  "cells": [
    {
      "cell_type": "markdown",
      "metadata": {
        "id": "view-in-github",
        "colab_type": "text"
      },
      "source": [
        "<a href=\"https://colab.research.google.com/github/MrD0balina/Fourth-Year-Project---Neutrino-Oscillations/blob/main/First_Coding_Work.ipynb\" target=\"_parent\"><img src=\"https://colab.research.google.com/assets/colab-badge.svg\" alt=\"Open In Colab\"/></a>"
      ]
    },
    {
      "cell_type": "code",
      "execution_count": 1,
      "metadata": {
        "id": "Gd8_4blkM1NA"
      },
      "outputs": [],
      "source": [
        "import numpy as np\n",
        "import matplotlib.pyplot as plt\n",
        "from math import cos"
      ]
    },
    {
      "cell_type": "markdown",
      "source": [
        "Equations (18) and (21)"
      ],
      "metadata": {
        "id": "V6HSf3h33LcW"
      }
    },
    {
      "cell_type": "code",
      "source": [
        "# E_v = np.linspace( 0 , 5 , 100 )   # Units = GeV\n",
        "\n",
        "E_v_star = 29.8 * ( 10 ** -3 )     # Units = GeV\n",
        "\n",
        "m_pi = 139.6 * ( 10 ** -3 )        # Units = GeV / c ** 2    Where c = 1\n",
        "\n",
        "theta = 0.03\n",
        "\n",
        "\n",
        "E_proton = 120                     # Units = GeV  ( Source = https://en.wikipedia.org/wiki/Fermilab#Fermilab_Accelerator_Complex )\n",
        "\n",
        "E_v = E_v_star / theta"
      ],
      "metadata": {
        "id": "6useO2ttTUva"
      },
      "execution_count": 14,
      "outputs": []
    },
    {
      "cell_type": "code",
      "source": [
        "display(E_v)"
      ],
      "metadata": {
        "colab": {
          "base_uri": "https://localhost:8080/",
          "height": 34
        },
        "id": "ONE7gE0B9nXz",
        "outputId": "9c7c0bbb-379d-4ed1-8d4a-5f3ac2c18b80"
      },
      "execution_count": 15,
      "outputs": [
        {
          "output_type": "display_data",
          "data": {
            "text/plain": [
              "0.9933333333333334"
            ]
          },
          "metadata": {}
        }
      ]
    },
    {
      "cell_type": "code",
      "source": [
        "# Equation 18\n",
        "\n",
        "cos_theta_star = ( 1 - ( E_v ** 2 / E_v_star ** 2 ) * ( ( 1 / ( cos(theta) ) ** 2 ) - 1 ) ) ** ( 1 / 2 )\n",
        "\n",
        "\n",
        "\n",
        "## # Equation 21\n",
        "\n",
        "## E_pi = ( m_pi * E_v ) / ( E_v_star * ( 1 + cos_theta_star ) )\n"
      ],
      "metadata": {
        "id": "3njQfdsi3J11"
      },
      "execution_count": 16,
      "outputs": []
    },
    {
      "cell_type": "markdown",
      "source": [
        "??????????????????????????????????????????????????????????????????????????????????????????????\n"
      ],
      "metadata": {
        "id": "zFQOu2C_qwcE"
      }
    },
    {
      "cell_type": "code",
      "source": [
        "E_pi = np.linspace( 0 , 20 , 250 )"
      ],
      "metadata": {
        "id": "EPdqCVT73JxM"
      },
      "execution_count": 9,
      "outputs": []
    },
    {
      "cell_type": "code",
      "source": [
        "display(type(E_pi))\n",
        "np.shape(E_pi)"
      ],
      "metadata": {
        "colab": {
          "base_uri": "https://localhost:8080/",
          "height": 52
        },
        "id": "wge76GK79Men",
        "outputId": "680a08cc-3b4b-4263-b775-02fc137f7598"
      },
      "execution_count": 18,
      "outputs": [
        {
          "output_type": "display_data",
          "data": {
            "text/plain": [
              "numpy.ndarray"
            ]
          },
          "metadata": {}
        },
        {
          "output_type": "execute_result",
          "data": {
            "text/plain": [
              "(250,)"
            ]
          },
          "metadata": {},
          "execution_count": 18
        }
      ]
    },
    {
      "cell_type": "code",
      "source": [
        "E_v_array = ( E_v_star * ( 1 + cos_theta_star ) * E_pi ) / m_pi"
      ],
      "metadata": {
        "id": "vjIRe7EZ3JqQ"
      },
      "execution_count": 19,
      "outputs": []
    },
    {
      "cell_type": "code",
      "source": [
        "display(type(E_v_array))\n",
        "np.shape(E_v_array)"
      ],
      "metadata": {
        "id": "GadLhXPL3JhK",
        "colab": {
          "base_uri": "https://localhost:8080/",
          "height": 52
        },
        "outputId": "9c45b1f9-2780-4745-8558-385f347739b3"
      },
      "execution_count": 20,
      "outputs": [
        {
          "output_type": "display_data",
          "data": {
            "text/plain": [
              "numpy.ndarray"
            ]
          },
          "metadata": {}
        },
        {
          "output_type": "execute_result",
          "data": {
            "text/plain": [
              "(250,)"
            ]
          },
          "metadata": {},
          "execution_count": 20
        }
      ]
    },
    {
      "cell_type": "code",
      "source": [
        "plt.scatter( E_pi , E_v_array )"
      ],
      "metadata": {
        "id": "ZUANe6u8NAIj",
        "colab": {
          "base_uri": "https://localhost:8080/",
          "height": 447
        },
        "outputId": "149ae4fa-9330-4ba1-a76c-f49df30785df"
      },
      "execution_count": 21,
      "outputs": [
        {
          "output_type": "execute_result",
          "data": {
            "text/plain": [
              "<matplotlib.collections.PathCollection at 0x79939c724370>"
            ]
          },
          "metadata": {},
          "execution_count": 21
        },
        {
          "output_type": "display_data",
          "data": {
            "text/plain": [
              "<Figure size 640x480 with 1 Axes>"
            ],
            "image/png": "[encoded data removed]"
          },
          "metadata": {}
        }
      ]
    },
    {
      "cell_type": "code",
      "source": [],
      "metadata": {
        "id": "6HksZXIhEnIX"
      },
      "execution_count": null,
      "outputs": []
    }
  ]
}