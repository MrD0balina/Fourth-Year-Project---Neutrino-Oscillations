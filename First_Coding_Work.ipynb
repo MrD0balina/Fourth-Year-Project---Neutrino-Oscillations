{
  "nbformat": 4,
  "nbformat_minor": 0,
  "metadata": {
    "colab": {
      "provenance": [],
      "authorship_tag": "ABX9TyOu9YfoS0i2ADZI9jrSaUdY",
      "include_colab_link": true
    },
    "kernelspec": {
      "name": "python3",
      "display_name": "Python 3"
    },
    "language_info": {
      "name": "python"
    }
  },
  "cells": [
    {
      "cell_type": "markdown",
      "metadata": {
        "id": "view-in-github",
        "colab_type": "text"
      },
      "source": [
        "<a href=\"https://colab.research.google.com/github/MrD0balina/Fourth-Year-Project---Neutrino-Oscillations/blob/main/First_Coding_Work.ipynb\" target=\"_parent\"><img src=\"https://colab.research.google.com/assets/colab-badge.svg\" alt=\"Open In Colab\"/></a>"
      ]
    },
    {
      "cell_type": "code",
      "execution_count": 29,
      "metadata": {
        "id": "Gd8_4blkM1NA"
      },
      "outputs": [],
      "source": [
        "import numpy as np\n",
        "import matplotlib.pyplot as plt\n",
        "from math import cos"
      ]
    },
    {
      "cell_type": "markdown",
      "source": [
        "Equations (18) and (21)"
      ],
      "metadata": {
        "id": "V6HSf3h33LcW"
      }
    },
    {
      "cell_type": "code",
      "source": [
        "# E_v = np.linspace( 0 , 5 , 100 )   # Units = GeV\n",
        "\n",
        "E_v_star = 29.8 * ( 10 ** -3 )     # Units = GeV\n",
        "\n",
        "m_pi = 139.6 * ( 10 ** -3 )        # Units = GeV / c ** 2    Where c = 1\n",
        "\n",
        "theta = 0.01\n",
        "\n",
        "\n",
        "E_proton = 120                     # Units = GeV  ( Source = https://en.wikipedia.org/wiki/Fermilab#Fermilab_Accelerator_Complex )\n",
        "\n",
        "# E_v = E_v_star / theta"
      ],
      "metadata": {
        "id": "6useO2ttTUva"
      },
      "execution_count": 42,
      "outputs": []
    },
    {
      "cell_type": "code",
      "source": [
        "# display(E_v)"
      ],
      "metadata": {
        "colab": {
          "base_uri": "https://localhost:8080/",
          "height": 36
        },
        "id": "ONE7gE0B9nXz",
        "outputId": "fffff4e8-6ada-45d3-c503-c9bacaa68ad6"
      },
      "execution_count": 43,
      "outputs": [
        {
          "output_type": "display_data",
          "data": {
            "text/plain": [
              "2.98"
            ]
          },
          "metadata": {}
        }
      ]
    },
    {
      "cell_type": "code",
      "source": [
        "E_v_array = np.linspace( 0 , 20 , 250 )"
      ],
      "metadata": {
        "id": "EPdqCVT73JxM"
      },
      "execution_count": 44,
      "outputs": []
    },
    {
      "cell_type": "code",
      "source": [
        "print(E_v_array)"
      ],
      "metadata": {
        "colab": {
          "base_uri": "https://localhost:8080/"
        },
        "id": "wge76GK79Men",
        "outputId": "1edc5332-25ed-4586-9e01-7249982d8775"
      },
      "execution_count": 45,
      "outputs": [
        {
          "output_type": "stream",
          "name": "stdout",
          "text": [
            "[ 0.          0.08032129  0.16064257  0.24096386  0.32128514  0.40160643\n",
            "  0.48192771  0.562249    0.64257028  0.72289157  0.80321285  0.88353414\n",
            "  0.96385542  1.04417671  1.12449799  1.20481928  1.28514056  1.36546185\n",
            "  1.44578313  1.52610442  1.6064257   1.68674699  1.76706827  1.84738956\n",
            "  1.92771084  2.00803213  2.08835341  2.1686747   2.24899598  2.32931727\n",
            "  2.40963855  2.48995984  2.57028112  2.65060241  2.73092369  2.81124498\n",
            "  2.89156627  2.97188755  3.05220884  3.13253012  3.21285141  3.29317269\n",
            "  3.37349398  3.45381526  3.53413655  3.61445783  3.69477912  3.7751004\n",
            "  3.85542169  3.93574297  4.01606426  4.09638554  4.17670683  4.25702811\n",
            "  4.3373494   4.41767068  4.49799197  4.57831325  4.65863454  4.73895582\n",
            "  4.81927711  4.89959839  4.97991968  5.06024096  5.14056225  5.22088353\n",
            "  5.30120482  5.3815261   5.46184739  5.54216867  5.62248996  5.70281124\n",
            "  5.78313253  5.86345382  5.9437751   6.02409639  6.10441767  6.18473896\n",
            "  6.26506024  6.34538153  6.42570281  6.5060241   6.58634538  6.66666667\n",
            "  6.74698795  6.82730924  6.90763052  6.98795181  7.06827309  7.14859438\n",
            "  7.22891566  7.30923695  7.38955823  7.46987952  7.5502008   7.63052209\n",
            "  7.71084337  7.79116466  7.87148594  7.95180723  8.03212851  8.1124498\n",
            "  8.19277108  8.27309237  8.35341365  8.43373494  8.51405622  8.59437751\n",
            "  8.6746988   8.75502008  8.83534137  8.91566265  8.99598394  9.07630522\n",
            "  9.15662651  9.23694779  9.31726908  9.39759036  9.47791165  9.55823293\n",
            "  9.63855422  9.7188755   9.79919679  9.87951807  9.95983936 10.04016064\n",
            " 10.12048193 10.20080321 10.2811245  10.36144578 10.44176707 10.52208835\n",
            " 10.60240964 10.68273092 10.76305221 10.84337349 10.92369478 11.00401606\n",
            " 11.08433735 11.16465863 11.24497992 11.3253012  11.40562249 11.48594378\n",
            " 11.56626506 11.64658635 11.72690763 11.80722892 11.8875502  11.96787149\n",
            " 12.04819277 12.12851406 12.20883534 12.28915663 12.36947791 12.4497992\n",
            " 12.53012048 12.61044177 12.69076305 12.77108434 12.85140562 12.93172691\n",
            " 13.01204819 13.09236948 13.17269076 13.25301205 13.33333333 13.41365462\n",
            " 13.4939759  13.57429719 13.65461847 13.73493976 13.81526104 13.89558233\n",
            " 13.97590361 14.0562249  14.13654618 14.21686747 14.29718876 14.37751004\n",
            " 14.45783133 14.53815261 14.6184739  14.69879518 14.77911647 14.85943775\n",
            " 14.93975904 15.02008032 15.10040161 15.18072289 15.26104418 15.34136546\n",
            " 15.42168675 15.50200803 15.58232932 15.6626506  15.74297189 15.82329317\n",
            " 15.90361446 15.98393574 16.06425703 16.14457831 16.2248996  16.30522088\n",
            " 16.38554217 16.46586345 16.54618474 16.62650602 16.70682731 16.78714859\n",
            " 16.86746988 16.94779116 17.02811245 17.10843373 17.18875502 17.26907631\n",
            " 17.34939759 17.42971888 17.51004016 17.59036145 17.67068273 17.75100402\n",
            " 17.8313253  17.91164659 17.99196787 18.07228916 18.15261044 18.23293173\n",
            " 18.31325301 18.3935743  18.47389558 18.55421687 18.63453815 18.71485944\n",
            " 18.79518072 18.87550201 18.95582329 19.03614458 19.11646586 19.19678715\n",
            " 19.27710843 19.35742972 19.437751   19.51807229 19.59839357 19.67871486\n",
            " 19.75903614 19.83935743 19.91967871 20.        ]\n"
          ]
        }
      ]
    },
    {
      "cell_type": "code",
      "source": [
        "# Equation 18\n",
        "\n",
        "cos_theta_star = ( ( 1 - ( E_v_array ** 2 / ( E_v_star ** 2 ) ) * ( ( 1 / ( ( cos(theta) ) ** 2 ) ) - 1 ) ) ** ( 1 / 2 ) )\n",
        "\n",
        "\n",
        "\n",
        "## # Equation 21\n",
        "\n",
        "## E_pi = ( m_pi * E_v ) / ( E_v_star * ( 1 + cos_theta_star ) )\n"
      ],
      "metadata": {
        "id": "3njQfdsi3J11",
        "colab": {
          "base_uri": "https://localhost:8080/"
        },
        "outputId": "e9c31c2c-354b-447f-cde6-84d8db73245f"
      },
      "execution_count": 46,
      "outputs": [
        {
          "output_type": "stream",
          "name": "stderr",
          "text": [
            "<ipython-input-46-65640a04b3a9>:3: RuntimeWarning: invalid value encountered in sqrt\n",
            "  cos_theta_star = ( ( 1 - ( E_v_array ** 2 / ( E_v_star ** 2 ) ) * ( ( 1 / ( ( cos(theta) ) ** 2 ) ) - 1 ) ) ** ( 1 / 2 ) )\n"
          ]
        }
      ]
    },
    {
      "cell_type": "markdown",
      "source": [
        "??????????????????????????????????????????????????????????????????????????????????????????????\n"
      ],
      "metadata": {
        "id": "zFQOu2C_qwcE"
      }
    },
    {
      "cell_type": "code",
      "source": [
        "E_pi =  (  (m_pi * E_v_array )    /  (   E_v_star * ( 1 + cos_theta_star )  )   )"
      ],
      "metadata": {
        "id": "vjIRe7EZ3JqQ"
      },
      "execution_count": 47,
      "outputs": []
    },
    {
      "cell_type": "code",
      "source": [
        "print(E_pi)"
      ],
      "metadata": {
        "id": "GadLhXPL3JhK",
        "colab": {
          "base_uri": "https://localhost:8080/"
        },
        "outputId": "332ed7e9-d55d-49a8-a19d-b3460e5bc5a3"
      },
      "execution_count": 48,
      "outputs": [
        {
          "output_type": "stream",
          "name": "stdout",
          "text": [
            "[ 0.          0.18816927  0.37654395  0.56533094  0.75474016  0.94498616\n",
            "  1.13628978  1.32887995  1.52299566  1.71888817  1.91682344  2.11708493\n",
            "  2.31997683  2.52582783  2.73499547  2.94787145  3.16488791  3.38652506\n",
            "  3.61332063  3.84588141  4.08489796  4.33116316  4.58559616  4.84927378\n",
            "  5.12347235  5.40972446  5.70989792  6.02630818  6.36188342  6.72041583\n",
            "  7.10696069  7.5285053   7.99516849  8.52255417  9.1369848   9.88957247\n",
            " 10.90921362 12.97137308         nan         nan         nan         nan\n",
            "         nan         nan         nan         nan         nan         nan\n",
            "         nan         nan         nan         nan         nan         nan\n",
            "         nan         nan         nan         nan         nan         nan\n",
            "         nan         nan         nan         nan         nan         nan\n",
            "         nan         nan         nan         nan         nan         nan\n",
            "         nan         nan         nan         nan         nan         nan\n",
            "         nan         nan         nan         nan         nan         nan\n",
            "         nan         nan         nan         nan         nan         nan\n",
            "         nan         nan         nan         nan         nan         nan\n",
            "         nan         nan         nan         nan         nan         nan\n",
            "         nan         nan         nan         nan         nan         nan\n",
            "         nan         nan         nan         nan         nan         nan\n",
            "         nan         nan         nan         nan         nan         nan\n",
            "         nan         nan         nan         nan         nan         nan\n",
            "         nan         nan         nan         nan         nan         nan\n",
            "         nan         nan         nan         nan         nan         nan\n",
            "         nan         nan         nan         nan         nan         nan\n",
            "         nan         nan         nan         nan         nan         nan\n",
            "         nan         nan         nan         nan         nan         nan\n",
            "         nan         nan         nan         nan         nan         nan\n",
            "         nan         nan         nan         nan         nan         nan\n",
            "         nan         nan         nan         nan         nan         nan\n",
            "         nan         nan         nan         nan         nan         nan\n",
            "         nan         nan         nan         nan         nan         nan\n",
            "         nan         nan         nan         nan         nan         nan\n",
            "         nan         nan         nan         nan         nan         nan\n",
            "         nan         nan         nan         nan         nan         nan\n",
            "         nan         nan         nan         nan         nan         nan\n",
            "         nan         nan         nan         nan         nan         nan\n",
            "         nan         nan         nan         nan         nan         nan\n",
            "         nan         nan         nan         nan         nan         nan\n",
            "         nan         nan         nan         nan         nan         nan\n",
            "         nan         nan         nan         nan         nan         nan\n",
            "         nan         nan         nan         nan         nan         nan\n",
            "         nan         nan         nan         nan]\n"
          ]
        }
      ]
    },
    {
      "cell_type": "code",
      "source": [
        "plt.scatter( E_pi , E_v_array )"
      ],
      "metadata": {
        "id": "ZUANe6u8NAIj",
        "colab": {
          "base_uri": "https://localhost:8080/",
          "height": 449
        },
        "outputId": "fc30e4b3-cabe-4702-e8aa-8a0d84a8ff02"
      },
      "execution_count": 49,
      "outputs": [
        {
          "output_type": "execute_result",
          "data": {
            "text/plain": [
              "<matplotlib.collections.PathCollection at 0x7e1d088a43a0>"
            ]
          },
          "metadata": {},
          "execution_count": 49
        },
        {
          "output_type": "display_data",
          "data": {
            "text/plain": [
              "<Figure size 640x480 with 1 Axes>"
            ],
            "image/png": "[encoded data removed]"
          },
          "metadata": {}
        }
      ]
    },
    {
      "cell_type": "code",
      "source": [
        "# E_v = np.linspace( 0 , 5 , 100 )   # Units = GeV\n",
        "\n",
        "E_v_star = 29.8 * ( 10 ** -3 )     # Units = GeV\n",
        "\n",
        "m_pi = 139.6 * ( 10 ** -3 )        # Units = GeV / c ** 2    Where c = 1\n",
        "\n",
        "theta = 0.03\n",
        "\n",
        "E_proton = 120                     # Units = GeV  ( Source = https://en.wikipedia.org/wiki/Fermilab#Fermilab_Accelerator_Complex )\n"
      ],
      "metadata": {
        "id": "6HksZXIhEnIX"
      },
      "execution_count": 72,
      "outputs": []
    },
    {
      "cell_type": "code",
      "source": [
        "E_v_array = np.linspace( 0 , 0.99999999999999999 , 250 )"
      ],
      "metadata": {
        "id": "W0IoIIRgoJ5t"
      },
      "execution_count": 114,
      "outputs": []
    },
    {
      "cell_type": "code",
      "source": [
        "# Equation 18\n",
        "\n",
        "cos_theta_star = ( ( 1 - ( E_v_array ** 2 / ( E_v_star ** 2 ) ) * ( ( 1 / ( ( cos(theta) ) ** 2 ) ) - 1 ) ) ** ( 1 / 2 ) )  ## Check this equation..."
      ],
      "metadata": {
        "colab": {
          "base_uri": "https://localhost:8080/"
        },
        "id": "OVXjQR1BoJ3U",
        "outputId": "f7a6104a-466c-4c5c-e9bb-0d66cdd40e3d"
      },
      "execution_count": 115,
      "outputs": [
        {
          "output_type": "stream",
          "name": "stderr",
          "text": [
            "<ipython-input-115-18eac05a424f>:3: RuntimeWarning: invalid value encountered in sqrt\n",
            "  cos_theta_star = ( ( 1 - ( E_v_array ** 2 / ( E_v_star ** 2 ) ) * ( ( 1 / ( ( cos(theta) ) ** 2 ) ) - 1 ) ) ** ( 1 / 2 ) )\n"
          ]
        }
      ]
    },
    {
      "cell_type": "code",
      "source": [
        "E_pi =  (  (m_pi * E_v_array )    /  (   E_v_star * ( 1 + cos_theta_star )  )   )  ## Check this equation..."
      ],
      "metadata": {
        "id": "mh13PzTpo7KY"
      },
      "execution_count": 116,
      "outputs": []
    },
    {
      "cell_type": "code",
      "source": [
        "print(E_pi)"
      ],
      "metadata": {
        "colab": {
          "base_uri": "https://localhost:8080/"
        },
        "id": "J4rBXsb9pwRU",
        "outputId": "d8a400f3-b18c-4462-d26e-56866ac4c5de"
      },
      "execution_count": 117,
      "outputs": [
        {
          "output_type": "stream",
          "name": "stdout",
          "text": [
            "[0.         0.00940679 0.01881382 0.0282213  0.03762948 0.04703858\n",
            " 0.05644884 0.06586048 0.07527374 0.08468885 0.09410604 0.10352555\n",
            " 0.1129476  0.12237243 0.13180028 0.14123137 0.15066595 0.16010425\n",
            " 0.1695465  0.17899294 0.18844381 0.19789935 0.20735979 0.21682538\n",
            " 0.22629635 0.23577295 0.24525542 0.254744   0.26423894 0.27374048\n",
            " 0.28324887 0.29276436 0.30228719 0.31181762 0.3213559  0.33090227\n",
            " 0.340457   0.35002035 0.35959255 0.36917389 0.37876461 0.38836498\n",
            " 0.39797526 0.40759572 0.41722662 0.42686824 0.43652084 0.4461847\n",
            " 0.45586009 0.46554729 0.47524658 0.48495824 0.49468255 0.50441981\n",
            " 0.51417029 0.52393429 0.5337121  0.54350402 0.55331035 0.56313138\n",
            " 0.57296743 0.5828188  0.59268579 0.60256873 0.61246792 0.62238369\n",
            " 0.63231637 0.64226626 0.65223372 0.66221905 0.67222262 0.68224475\n",
            " 0.69228578 0.70234607 0.71242597 0.72252583 0.73264601 0.74278688\n",
            " 0.75294881 0.76313217 0.77333733 0.78356469 0.79381462 0.80408752\n",
            " 0.81438378 0.82470382 0.83504804 0.84541684 0.85581066 0.86622991\n",
            " 0.87667503 0.88714646 0.89764463 0.90817    0.91872302 0.92930416\n",
            " 0.93991388 0.95055267 0.961221   0.97191938 0.98264829 0.99340825\n",
            " 1.00419977 1.01502338 1.0258796  1.03676898 1.04769208 1.05864944\n",
            " 1.06964163 1.08066924 1.09173286 1.10283307 1.1139705  1.12514576\n",
            " 1.13635948 1.1476123  1.15890489 1.1702379  1.18161202 1.19302794\n",
            " 1.20448636 1.21598801 1.22753361 1.23912392 1.25075969 1.26244171\n",
            " 1.27417076 1.28594766 1.29777324 1.30964833 1.32157381 1.33355055\n",
            " 1.34557944 1.35766142 1.36979742 1.38198839 1.39423533 1.40653923\n",
            " 1.41890113 1.43132206 1.44380312 1.4563454  1.46895003 1.48161816\n",
            " 1.49435098 1.5071497  1.52001555 1.53294983 1.54595383 1.55902889\n",
            " 1.57217639 1.58539775 1.5986944  1.61206784 1.6255196  1.63905125\n",
            " 1.6526644  1.66636072 1.68014192 1.69400974 1.70796601 1.72201258\n",
            " 1.73615137 1.75038437 1.7647136  1.77914117 1.79366924 1.80830006\n",
            " 1.82303592 1.83787922 1.85283241 1.86789804 1.88307875 1.89837725\n",
            " 1.91379637 1.92933901 1.94500821 1.9608071  1.97673892 1.99280705\n",
            " 2.00901498 2.02536634 2.04186492 2.05851463 2.07531958 2.09228399\n",
            " 2.10941232 2.12670917 2.14417936 2.16182793 2.17966012 2.19768142\n",
            " 2.21589759 2.23431463 2.25293885 2.27177685 2.29083558 2.31012233\n",
            " 2.32964476 2.34941094 2.36942937 2.38970904 2.41025941 2.43109049\n",
            " 2.4522129  2.47363788 2.49537735 2.51744399 2.53985129 2.56261366\n",
            " 2.58574643 2.60926604 2.63319009 2.65753748 2.68232851 2.7075851\n",
            " 2.73333089 2.75959151 2.78639475 2.81377086 2.84175289 2.87037699\n",
            " 2.89968286 2.92971429 2.96051972 2.99215297 3.02467409 3.05815045\n",
            " 3.09265801 3.12828288 3.1651234  3.2032926  3.24292152 3.28416337\n",
            " 3.3271992  3.37224541 3.41956419 3.46947824 3.52239208 3.5788243\n",
            " 3.63945789 3.70522357 3.77744633 3.85812657 3.95054661 4.06082979\n",
            " 4.20335328 4.44107458        nan        nan]\n"
          ]
        }
      ]
    },
    {
      "cell_type": "code",
      "source": [
        "plt.scatter( E_pi , E_v_array , s = 5 )"
      ],
      "metadata": {
        "colab": {
          "base_uri": "https://localhost:8080/",
          "height": 449
        },
        "id": "hehdlrL6o7Gn",
        "outputId": "393c1653-7136-4161-de5f-1e367974d5a8"
      },
      "execution_count": 118,
      "outputs": [
        {
          "output_type": "execute_result",
          "data": {
            "text/plain": [
              "<matplotlib.collections.PathCollection at 0x7e1d084568f0>"
            ]
          },
          "metadata": {},
          "execution_count": 118
        },
        {
          "output_type": "display_data",
          "data": {
            "text/plain": [
              "<Figure size 640x480 with 1 Axes>"
            ],
            "image/png": "[encoded data removed]"
          },
          "metadata": {}
        }
      ]
    },
    {
      "cell_type": "markdown",
      "source": [
        "This graph should start to curve downwards..."
      ],
      "metadata": {
        "id": "md2qLhEKtyCt"
      }
    },
    {
      "cell_type": "code",
      "source": [],
      "metadata": {
        "id": "0MjHQVs3o6_x"
      },
      "execution_count": null,
      "outputs": []
    },
    {
      "cell_type": "markdown",
      "source": [
        "For second plot, express E_pi as a function of theta and E_v.  Express cos_theta_star as a function of theta andd E_v, and then incorrporate these two functions into one function that will pump out the different lines that appear on the second plot.\n",
        "\n",
        "\n",
        "The combines function is based on the expression that the double derivative of N is proportional to."
      ],
      "metadata": {
        "id": "lIh6QCMPqZxf"
      }
    },
    {
      "cell_type": "code",
      "source": [],
      "metadata": {
        "id": "zvZFnRfpq3Aj"
      },
      "execution_count": null,
      "outputs": []
    }
  ]
}