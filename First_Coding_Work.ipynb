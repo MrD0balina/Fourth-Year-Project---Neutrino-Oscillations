{
  "nbformat": 4,
  "nbformat_minor": 0,
  "metadata": {
    "colab": {
      "provenance": [],
      "authorship_tag": "ABX9TyPrUuoEmP19qt/P1sFFC2sA",
      "include_colab_link": true
    },
    "kernelspec": {
      "name": "python3",
      "display_name": "Python 3"
    },
    "language_info": {
      "name": "python"
    }
  },
  "cells": [
    {
      "cell_type": "markdown",
      "metadata": {
        "id": "view-in-github",
        "colab_type": "text"
      },
      "source": [
        "<a href=\"https://colab.research.google.com/github/MrD0balina/Fourth-Year-Project---Neutrino-Oscillations/blob/main/First_Coding_Work.ipynb\" target=\"_parent\"><img src=\"https://colab.research.google.com/assets/colab-badge.svg\" alt=\"Open In Colab\"/></a>"
      ]
    },
    {
      "cell_type": "code",
      "execution_count": null,
      "metadata": {
        "id": "Gd8_4blkM1NA"
      },
      "outputs": [],
      "source": [
        "import numpy as np\n",
        "import matplotlib.pyplot as plt\n",
        "from math import cos"
      ]
    },
    {
      "cell_type": "markdown",
      "source": [
        "Equations (18) and (21)"
      ],
      "metadata": {
        "id": "V6HSf3h33LcW"
      }
    },
    {
      "cell_type": "code",
      "source": [
        "# E_v = np.linspace( 0 , 5 , 100 )   # Units = GeV\n",
        "\n",
        "E_v_star = 29.8 * ( 10 ** -3 )     # Units = GeV\n",
        "\n",
        "m_pi = 139.6 * ( 10 ** -3 )        # Units = GeV / c ** 2    Where c = 1\n",
        "\n",
        "theta = 0.01\n",
        "\n",
        "\n",
        "E_proton = 120                     # Units = GeV  ( Source = https://en.wikipedia.org/wiki/Fermilab#Fermilab_Accelerator_Complex )\n",
        "\n",
        "# E_v = E_v_star / theta"
      ],
      "metadata": {
        "id": "6useO2ttTUva"
      },
      "execution_count": null,
      "outputs": []
    },
    {
      "cell_type": "code",
      "source": [
        "# display(E_v)"
      ],
      "metadata": {
        "colab": {
          "base_uri": "https://localhost:8080/",
          "height": 36
        },
        "id": "ONE7gE0B9nXz",
        "outputId": "fffff4e8-6ada-45d3-c503-c9bacaa68ad6"
      },
      "execution_count": null,
      "outputs": [
        {
          "output_type": "display_data",
          "data": {
            "text/plain": [
              "2.98"
            ]
          },
          "metadata": {}
        }
      ]
    },
    {
      "cell_type": "code",
      "source": [
        "E_v_array = np.linspace( 0 , 20 , 250 )"
      ],
      "metadata": {
        "id": "EPdqCVT73JxM"
      },
      "execution_count": null,
      "outputs": []
    },
    {
      "cell_type": "code",
      "source": [
        "print(E_v_array)"
      ],
      "metadata": {
        "colab": {
          "base_uri": "https://localhost:8080/"
        },
        "id": "wge76GK79Men",
        "outputId": "1edc5332-25ed-4586-9e01-7249982d8775"
      },
      "execution_count": null,
      "outputs": [
        {
          "output_type": "stream",
          "name": "stdout",
          "text": [
            "[ 0.          0.08032129  0.16064257  0.24096386  0.32128514  0.40160643\n",
            "  0.48192771  0.562249    0.64257028  0.72289157  0.80321285  0.88353414\n",
            "  0.96385542  1.04417671  1.12449799  1.20481928  1.28514056  1.36546185\n",
            "  1.44578313  1.52610442  1.6064257   1.68674699  1.76706827  1.84738956\n",
            "  1.92771084  2.00803213  2.08835341  2.1686747   2.24899598  2.32931727\n",
            "  2.40963855  2.48995984  2.57028112  2.65060241  2.73092369  2.81124498\n",
            "  2.89156627  2.97188755  3.05220884  3.13253012  3.21285141  3.29317269\n",
            "  3.37349398  3.45381526  3.53413655  3.61445783  3.69477912  3.7751004\n",
            "  3.85542169  3.93574297  4.01606426  4.09638554  4.17670683  4.25702811\n",
            "  4.3373494   4.41767068  4.49799197  4.57831325  4.65863454  4.73895582\n",
            "  4.81927711  4.89959839  4.97991968  5.06024096  5.14056225  5.22088353\n",
            "  5.30120482  5.3815261   5.46184739  5.54216867  5.62248996  5.70281124\n",
            "  5.78313253  5.86345382  5.9437751   6.02409639  6.10441767  6.18473896\n",
            "  6.26506024  6.34538153  6.42570281  6.5060241   6.58634538  6.66666667\n",
            "  6.74698795  6.82730924  6.90763052  6.98795181  7.06827309  7.14859438\n",
            "  7.22891566  7.30923695  7.38955823  7.46987952  7.5502008   7.63052209\n",
            "  7.71084337  7.79116466  7.87148594  7.95180723  8.03212851  8.1124498\n",
            "  8.19277108  8.27309237  8.35341365  8.43373494  8.51405622  8.59437751\n",
            "  8.6746988   8.75502008  8.83534137  8.91566265  8.99598394  9.07630522\n",
            "  9.15662651  9.23694779  9.31726908  9.39759036  9.47791165  9.55823293\n",
            "  9.63855422  9.7188755   9.79919679  9.87951807  9.95983936 10.04016064\n",
            " 10.12048193 10.20080321 10.2811245  10.36144578 10.44176707 10.52208835\n",
            " 10.60240964 10.68273092 10.76305221 10.84337349 10.92369478 11.00401606\n",
            " 11.08433735 11.16465863 11.24497992 11.3253012  11.40562249 11.48594378\n",
            " 11.56626506 11.64658635 11.72690763 11.80722892 11.8875502  11.96787149\n",
            " 12.04819277 12.12851406 12.20883534 12.28915663 12.36947791 12.4497992\n",
            " 12.53012048 12.61044177 12.69076305 12.77108434 12.85140562 12.93172691\n",
            " 13.01204819 13.09236948 13.17269076 13.25301205 13.33333333 13.41365462\n",
            " 13.4939759  13.57429719 13.65461847 13.73493976 13.81526104 13.89558233\n",
            " 13.97590361 14.0562249  14.13654618 14.21686747 14.29718876 14.37751004\n",
            " 14.45783133 14.53815261 14.6184739  14.69879518 14.77911647 14.85943775\n",
            " 14.93975904 15.02008032 15.10040161 15.18072289 15.26104418 15.34136546\n",
            " 15.42168675 15.50200803 15.58232932 15.6626506  15.74297189 15.82329317\n",
            " 15.90361446 15.98393574 16.06425703 16.14457831 16.2248996  16.30522088\n",
            " 16.38554217 16.46586345 16.54618474 16.62650602 16.70682731 16.78714859\n",
            " 16.86746988 16.94779116 17.02811245 17.10843373 17.18875502 17.26907631\n",
            " 17.34939759 17.42971888 17.51004016 17.59036145 17.67068273 17.75100402\n",
            " 17.8313253  17.91164659 17.99196787 18.07228916 18.15261044 18.23293173\n",
            " 18.31325301 18.3935743  18.47389558 18.55421687 18.63453815 18.71485944\n",
            " 18.79518072 18.87550201 18.95582329 19.03614458 19.11646586 19.19678715\n",
            " 19.27710843 19.35742972 19.437751   19.51807229 19.59839357 19.67871486\n",
            " 19.75903614 19.83935743 19.91967871 20.        ]\n"
          ]
        }
      ]
    },
    {
      "cell_type": "code",
      "source": [
        "# Equation 18\n",
        "\n",
        "cos_theta_star = ( ( 1 - ( E_v_array ** 2 / ( E_v_star ** 2 ) ) * ( ( 1 / ( ( cos(theta) ) ** 2 ) ) - 1 ) ) ** ( 1 / 2 ) )\n",
        "\n",
        "\n",
        "\n",
        "## # Equation 21\n",
        "\n",
        "## E_pi = ( m_pi * E_v ) / ( E_v_star * ( 1 + cos_theta_star ) )\n"
      ],
      "metadata": {
        "id": "3njQfdsi3J11",
        "colab": {
          "base_uri": "https://localhost:8080/"
        },
        "outputId": "e9c31c2c-354b-447f-cde6-84d8db73245f"
      },
      "execution_count": null,
      "outputs": [
        {
          "output_type": "stream",
          "name": "stderr",
          "text": [
            "<ipython-input-46-65640a04b3a9>:3: RuntimeWarning: invalid value encountered in sqrt\n",
            "  cos_theta_star = ( ( 1 - ( E_v_array ** 2 / ( E_v_star ** 2 ) ) * ( ( 1 / ( ( cos(theta) ) ** 2 ) ) - 1 ) ) ** ( 1 / 2 ) )\n"
          ]
        }
      ]
    },
    {
      "cell_type": "markdown",
      "source": [
        "??????????????????????????????????????????????????????????????????????????????????????????????\n"
      ],
      "metadata": {
        "id": "zFQOu2C_qwcE"
      }
    },
    {
      "cell_type": "code",
      "source": [
        "E_pi =  (  (m_pi * E_v_array )    /  (   E_v_star * ( 1 + cos_theta_star )  )   )"
      ],
      "metadata": {
        "id": "vjIRe7EZ3JqQ"
      },
      "execution_count": null,
      "outputs": []
    },
    {
      "cell_type": "code",
      "source": [
        "print(E_pi)"
      ],
      "metadata": {
        "id": "GadLhXPL3JhK",
        "colab": {
          "base_uri": "https://localhost:8080/"
        },
        "outputId": "332ed7e9-d55d-49a8-a19d-b3460e5bc5a3"
      },
      "execution_count": null,
      "outputs": [
        {
          "output_type": "stream",
          "name": "stdout",
          "text": [
            "[ 0.          0.18816927  0.37654395  0.56533094  0.75474016  0.94498616\n",
            "  1.13628978  1.32887995  1.52299566  1.71888817  1.91682344  2.11708493\n",
            "  2.31997683  2.52582783  2.73499547  2.94787145  3.16488791  3.38652506\n",
            "  3.61332063  3.84588141  4.08489796  4.33116316  4.58559616  4.84927378\n",
            "  5.12347235  5.40972446  5.70989792  6.02630818  6.36188342  6.72041583\n",
            "  7.10696069  7.5285053   7.99516849  8.52255417  9.1369848   9.88957247\n",
            " 10.90921362 12.97137308         nan         nan         nan         nan\n",
            "         nan         nan         nan         nan         nan         nan\n",
            "         nan         nan         nan         nan         nan         nan\n",
            "         nan         nan         nan         nan         nan         nan\n",
            "         nan         nan         nan         nan         nan         nan\n",
            "         nan         nan         nan         nan         nan         nan\n",
            "         nan         nan         nan         nan         nan         nan\n",
            "         nan         nan         nan         nan         nan         nan\n",
            "         nan         nan         nan         nan         nan         nan\n",
            "         nan         nan         nan         nan         nan         nan\n",
            "         nan         nan         nan         nan         nan         nan\n",
            "         nan         nan         nan         nan         nan         nan\n",
            "         nan         nan         nan         nan         nan         nan\n",
            "         nan         nan         nan         nan         nan         nan\n",
            "         nan         nan         nan         nan         nan         nan\n",
            "         nan         nan         nan         nan         nan         nan\n",
            "         nan         nan         nan         nan         nan         nan\n",
            "         nan         nan         nan         nan         nan         nan\n",
            "         nan         nan         nan         nan         nan         nan\n",
            "         nan         nan         nan         nan         nan         nan\n",
            "         nan         nan         nan         nan         nan         nan\n",
            "         nan         nan         nan         nan         nan         nan\n",
            "         nan         nan         nan         nan         nan         nan\n",
            "         nan         nan         nan         nan         nan         nan\n",
            "         nan         nan         nan         nan         nan         nan\n",
            "         nan         nan         nan         nan         nan         nan\n",
            "         nan         nan         nan         nan         nan         nan\n",
            "         nan         nan         nan         nan         nan         nan\n",
            "         nan         nan         nan         nan         nan         nan\n",
            "         nan         nan         nan         nan         nan         nan\n",
            "         nan         nan         nan         nan         nan         nan\n",
            "         nan         nan         nan         nan         nan         nan\n",
            "         nan         nan         nan         nan         nan         nan\n",
            "         nan         nan         nan         nan         nan         nan\n",
            "         nan         nan         nan         nan         nan         nan\n",
            "         nan         nan         nan         nan]\n"
          ]
        }
      ]
    },
    {
      "cell_type": "code",
      "source": [
        "plt.scatter( E_pi , E_v_array )"
      ],
      "metadata": {
        "id": "ZUANe6u8NAIj",
        "colab": {
          "base_uri": "https://localhost:8080/",
          "height": 449
        },
        "outputId": "fc30e4b3-cabe-4702-e8aa-8a0d84a8ff02"
      },
      "execution_count": null,
      "outputs": [
        {
          "output_type": "execute_result",
          "data": {
            "text/plain": [
              "<matplotlib.collections.PathCollection at 0x7e1d088a43a0>"
            ]
          },
          "metadata": {},
          "execution_count": 49
        },
        {
          "output_type": "display_data",
          "data": {
            "text/plain": [
              "<Figure size 640x480 with 1 Axes>"
            ],
            "image/png": "[encoded data removed]"
          },
          "metadata": {}
        }
      ]
    },
    {
      "cell_type": "code",
      "source": [
        "# E_v = np.linspace( 0 , 5 , 100 )   # Units = GeV\n",
        "\n",
        "E_v_star = 29.8 * ( 10 ** -3 )     # Units = GeV\n",
        "\n",
        "m_pi = 139.6 * ( 10 ** -3 )        # Units = GeV / c ** 2    Where c = 1\n",
        "\n",
        "theta = 0.03\n",
        "\n",
        "E_proton = 120                     # Units = GeV  ( Source = https://en.wikipedia.org/wiki/Fermilab#Fermilab_Accelerator_Complex )\n"
      ],
      "metadata": {
        "id": "6HksZXIhEnIX"
      },
      "execution_count": null,
      "outputs": []
    },
    {
      "cell_type": "code",
      "source": [
        "E_v_array = np.linspace( 0 , 0.96 , 250 )\n",
        "print(E_v_array)"
      ],
      "metadata": {
        "colab": {
          "base_uri": "https://localhost:8080/"
        },
        "id": "W0IoIIRgoJ5t",
        "outputId": "d043ae60-b555-4142-d4ac-bbbce0b753e6"
      },
      "execution_count": 139,
      "outputs": [
        {
          "output_type": "stream",
          "name": "stdout",
          "text": [
            "[0.         0.00385542 0.00771084 0.01156627 0.01542169 0.01927711\n",
            " 0.02313253 0.02698795 0.03084337 0.0346988  0.03855422 0.04240964\n",
            " 0.04626506 0.05012048 0.0539759  0.05783133 0.06168675 0.06554217\n",
            " 0.06939759 0.07325301 0.07710843 0.08096386 0.08481928 0.0886747\n",
            " 0.09253012 0.09638554 0.10024096 0.10409639 0.10795181 0.11180723\n",
            " 0.11566265 0.11951807 0.12337349 0.12722892 0.13108434 0.13493976\n",
            " 0.13879518 0.1426506  0.14650602 0.15036145 0.15421687 0.15807229\n",
            " 0.16192771 0.16578313 0.16963855 0.17349398 0.1773494  0.18120482\n",
            " 0.18506024 0.18891566 0.19277108 0.19662651 0.20048193 0.20433735\n",
            " 0.20819277 0.21204819 0.21590361 0.21975904 0.22361446 0.22746988\n",
            " 0.2313253  0.23518072 0.23903614 0.24289157 0.24674699 0.25060241\n",
            " 0.25445783 0.25831325 0.26216867 0.2660241  0.26987952 0.27373494\n",
            " 0.27759036 0.28144578 0.2853012  0.28915663 0.29301205 0.29686747\n",
            " 0.30072289 0.30457831 0.30843373 0.31228916 0.31614458 0.32\n",
            " 0.32385542 0.32771084 0.33156627 0.33542169 0.33927711 0.34313253\n",
            " 0.34698795 0.35084337 0.3546988  0.35855422 0.36240964 0.36626506\n",
            " 0.37012048 0.3739759  0.37783133 0.38168675 0.38554217 0.38939759\n",
            " 0.39325301 0.39710843 0.40096386 0.40481928 0.4086747  0.41253012\n",
            " 0.41638554 0.42024096 0.42409639 0.42795181 0.43180723 0.43566265\n",
            " 0.43951807 0.44337349 0.44722892 0.45108434 0.45493976 0.45879518\n",
            " 0.4626506  0.46650602 0.47036145 0.47421687 0.47807229 0.48192771\n",
            " 0.48578313 0.48963855 0.49349398 0.4973494  0.50120482 0.50506024\n",
            " 0.50891566 0.51277108 0.51662651 0.52048193 0.52433735 0.52819277\n",
            " 0.53204819 0.53590361 0.53975904 0.54361446 0.54746988 0.5513253\n",
            " 0.55518072 0.55903614 0.56289157 0.56674699 0.57060241 0.57445783\n",
            " 0.57831325 0.58216867 0.5860241  0.58987952 0.59373494 0.59759036\n",
            " 0.60144578 0.6053012  0.60915663 0.61301205 0.61686747 0.62072289\n",
            " 0.62457831 0.62843373 0.63228916 0.63614458 0.64       0.64385542\n",
            " 0.64771084 0.65156627 0.65542169 0.65927711 0.66313253 0.66698795\n",
            " 0.67084337 0.6746988  0.67855422 0.68240964 0.68626506 0.69012048\n",
            " 0.6939759  0.69783133 0.70168675 0.70554217 0.70939759 0.71325301\n",
            " 0.71710843 0.72096386 0.72481928 0.7286747  0.73253012 0.73638554\n",
            " 0.74024096 0.74409639 0.74795181 0.75180723 0.75566265 0.75951807\n",
            " 0.76337349 0.76722892 0.77108434 0.77493976 0.77879518 0.7826506\n",
            " 0.78650602 0.79036145 0.79421687 0.79807229 0.80192771 0.80578313\n",
            " 0.80963855 0.81349398 0.8173494  0.82120482 0.82506024 0.82891566\n",
            " 0.83277108 0.83662651 0.84048193 0.84433735 0.84819277 0.85204819\n",
            " 0.85590361 0.85975904 0.86361446 0.86746988 0.8713253  0.87518072\n",
            " 0.87903614 0.88289157 0.88674699 0.89060241 0.89445783 0.89831325\n",
            " 0.90216867 0.9060241  0.90987952 0.91373494 0.91759036 0.92144578\n",
            " 0.9253012  0.92915663 0.93301205 0.93686747 0.94072289 0.94457831\n",
            " 0.94843373 0.95228916 0.95614458 0.96      ]\n"
          ]
        }
      ]
    },
    {
      "cell_type": "code",
      "source": [
        "# Equation 18\n",
        "\n",
        "cos_theta_star = ( ( 1 - ( E_v_array ** 2 / ( E_v_star ** 2 ) ) * ( ( 1 / ( ( cos(theta) ) ** 2 ) ) - 1 ) ) ** ( 1 / 2 ) )  ## Check this equation...   \"Invalid value encountered in square root\"   --- WHAT?"
      ],
      "metadata": {
        "colab": {
          "base_uri": "https://localhost:8080/"
        },
        "id": "OVXjQR1BoJ3U",
        "outputId": "0c3e6d4a-a2ec-446e-c047-1b284356391d"
      },
      "execution_count": 130,
      "outputs": [
        {
          "output_type": "stream",
          "name": "stderr",
          "text": [
            "<ipython-input-130-12b0e6b3ced2>:3: RuntimeWarning: invalid value encountered in sqrt\n",
            "  cos_theta_star = ( ( 1 - ( E_v_array ** 2 / ( E_v_star ** 2 ) ) * ( ( 1 / ( ( cos(theta) ) ** 2 ) ) - 1 ) ) ** ( 1 / 2 ) )  ## Check this equation...   \"Invalid value encountered in square root\"   --- WHAT?\n"
          ]
        }
      ]
    },
    {
      "cell_type": "code",
      "source": [
        "E_pi =  (  (m_pi * E_v_array )    /  (   E_v_star * ( 1 + cos_theta_star )  )   )  ## Check this equation..."
      ],
      "metadata": {
        "id": "mh13PzTpo7KY"
      },
      "execution_count": null,
      "outputs": []
    },
    {
      "cell_type": "code",
      "source": [
        "print(E_pi)"
      ],
      "metadata": {
        "colab": {
          "base_uri": "https://localhost:8080/"
        },
        "id": "J4rBXsb9pwRU",
        "outputId": "6d9863e7-3a73-4509-c53f-e70acd1225e7"
      },
      "execution_count": null,
      "outputs": [
        {
          "output_type": "stream",
          "name": "stdout",
          "text": [
            "[0.         0.00940679 0.01881382 0.0282213  0.03762948 0.04703858\n",
            " 0.05644884 0.06586048 0.07527374 0.08468885 0.09410604 0.10352555\n",
            " 0.1129476  0.12237243 0.13180028 0.14123137 0.15066595 0.16010425\n",
            " 0.1695465  0.17899294 0.18844381 0.19789935 0.20735979 0.21682538\n",
            " 0.22629635 0.23577295 0.24525542 0.254744   0.26423894 0.27374048\n",
            " 0.28324887 0.29276436 0.30228719 0.31181762 0.3213559  0.33090227\n",
            " 0.340457   0.35002035 0.35959255 0.36917389 0.37876461 0.38836498\n",
            " 0.39797526 0.40759572 0.41722662 0.42686824 0.43652084 0.4461847\n",
            " 0.45586009 0.46554729 0.47524658 0.48495824 0.49468255 0.50441981\n",
            " 0.51417029 0.52393429 0.5337121  0.54350402 0.55331035 0.56313138\n",
            " 0.57296743 0.5828188  0.59268579 0.60256873 0.61246792 0.62238369\n",
            " 0.63231637 0.64226626 0.65223372 0.66221905 0.67222262 0.68224475\n",
            " 0.69228578 0.70234607 0.71242597 0.72252583 0.73264601 0.74278688\n",
            " 0.75294881 0.76313217 0.77333733 0.78356469 0.79381462 0.80408752\n",
            " 0.81438378 0.82470382 0.83504804 0.84541684 0.85581066 0.86622991\n",
            " 0.87667503 0.88714646 0.89764463 0.90817    0.91872302 0.92930416\n",
            " 0.93991388 0.95055267 0.961221   0.97191938 0.98264829 0.99340825\n",
            " 1.00419977 1.01502338 1.0258796  1.03676898 1.04769208 1.05864944\n",
            " 1.06964163 1.08066924 1.09173286 1.10283307 1.1139705  1.12514576\n",
            " 1.13635948 1.1476123  1.15890489 1.1702379  1.18161202 1.19302794\n",
            " 1.20448636 1.21598801 1.22753361 1.23912392 1.25075969 1.26244171\n",
            " 1.27417076 1.28594766 1.29777324 1.30964833 1.32157381 1.33355055\n",
            " 1.34557944 1.35766142 1.36979742 1.38198839 1.39423533 1.40653923\n",
            " 1.41890113 1.43132206 1.44380312 1.4563454  1.46895003 1.48161816\n",
            " 1.49435098 1.5071497  1.52001555 1.53294983 1.54595383 1.55902889\n",
            " 1.57217639 1.58539775 1.5986944  1.61206784 1.6255196  1.63905125\n",
            " 1.6526644  1.66636072 1.68014192 1.69400974 1.70796601 1.72201258\n",
            " 1.73615137 1.75038437 1.7647136  1.77914117 1.79366924 1.80830006\n",
            " 1.82303592 1.83787922 1.85283241 1.86789804 1.88307875 1.89837725\n",
            " 1.91379637 1.92933901 1.94500821 1.9608071  1.97673892 1.99280705\n",
            " 2.00901498 2.02536634 2.04186492 2.05851463 2.07531958 2.09228399\n",
            " 2.10941232 2.12670917 2.14417936 2.16182793 2.17966012 2.19768142\n",
            " 2.21589759 2.23431463 2.25293885 2.27177685 2.29083558 2.31012233\n",
            " 2.32964476 2.34941094 2.36942937 2.38970904 2.41025941 2.43109049\n",
            " 2.4522129  2.47363788 2.49537735 2.51744399 2.53985129 2.56261366\n",
            " 2.58574643 2.60926604 2.63319009 2.65753748 2.68232851 2.7075851\n",
            " 2.73333089 2.75959151 2.78639475 2.81377086 2.84175289 2.87037699\n",
            " 2.89968286 2.92971429 2.96051972 2.99215297 3.02467409 3.05815045\n",
            " 3.09265801 3.12828288 3.1651234  3.2032926  3.24292152 3.28416337\n",
            " 3.3271992  3.37224541 3.41956419 3.46947824 3.52239208 3.5788243\n",
            " 3.63945789 3.70522357 3.77744633 3.85812657 3.95054661 4.06082979\n",
            " 4.20335328 4.44107458        nan        nan]\n"
          ]
        }
      ]
    },
    {
      "cell_type": "code",
      "source": [
        "plt.scatter( E_pi , E_v_array , s = 5 )"
      ],
      "metadata": {
        "colab": {
          "base_uri": "https://localhost:8080/",
          "height": 449
        },
        "id": "hehdlrL6o7Gn",
        "outputId": "996e44fa-059a-450b-bddd-2fe985e3e5e5"
      },
      "execution_count": null,
      "outputs": [
        {
          "output_type": "execute_result",
          "data": {
            "text/plain": [
              "<matplotlib.collections.PathCollection at 0x7e1d081ccc70>"
            ]
          },
          "metadata": {},
          "execution_count": 126
        },
        {
          "output_type": "display_data",
          "data": {
            "text/plain": [
              "<Figure size 640x480 with 1 Axes>"
            ],
            "image/png": "[encoded data removed]"
          },
          "metadata": {}
        }
      ]
    },
    {
      "cell_type": "markdown",
      "source": [
        "This graph should start to curve downwards..."
      ],
      "metadata": {
        "id": "md2qLhEKtyCt"
      }
    },
    {
      "cell_type": "code",
      "source": [
        "theta = - 0.03"
      ],
      "metadata": {
        "id": "v24CudmzvkK6"
      },
      "execution_count": 140,
      "outputs": []
    },
    {
      "cell_type": "code",
      "source": [
        "cos_theta_star = ( ( 1 - ( ( E_v_array ** 2 ) / ( E_v_star ** 2 ) ) * ( ( 1 / ( ( cos(theta) ) ** 2 ) ) - 1 ) ) ** ( 1 / 2 ) )  ## Check this equation..."
      ],
      "metadata": {
        "id": "MTML9VM-vo2a"
      },
      "execution_count": 141,
      "outputs": []
    },
    {
      "cell_type": "code",
      "source": [
        "E_pi =  (  (m_pi * E_v_array )    /  (   E_v_star * ( 1 + cos_theta_star )  )   )  ## Check this equation..."
      ],
      "metadata": {
        "id": "iIYmmkZWvoz7"
      },
      "execution_count": 142,
      "outputs": []
    },
    {
      "cell_type": "code",
      "source": [
        "plt.scatter( E_pi , E_v_array , s = 5 )"
      ],
      "metadata": {
        "colab": {
          "base_uri": "https://localhost:8080/",
          "height": 450
        },
        "id": "Lxev9IDbvowS",
        "outputId": "9ec6bbc0-2bf6-4f56-d5f0-5677d077c9ec"
      },
      "execution_count": 143,
      "outputs": [
        {
          "output_type": "execute_result",
          "data": {
            "text/plain": [
              "<matplotlib.collections.PathCollection at 0x7e1cf9e872b0>"
            ]
          },
          "metadata": {},
          "execution_count": 143
        },
        {
          "output_type": "display_data",
          "data": {
            "text/plain": [
              "<Figure size 640x480 with 1 Axes>"
            ],
            "image/png": "[encoded data removed]"
          },
          "metadata": {}
        }
      ]
    },
    {
      "cell_type": "code",
      "source": [],
      "metadata": {
        "id": "JeezNXBOvona"
      },
      "execution_count": 143,
      "outputs": []
    },
    {
      "cell_type": "code",
      "source": [
        "plt.scatter( E_v_array , E_pi , s = 5 )"
      ],
      "metadata": {
        "id": "vctM8H9SuzPJ",
        "outputId": "79557067-cecb-4f94-b992-e26aed8094f8",
        "colab": {
          "base_uri": "https://localhost:8080/",
          "height": 447
        }
      },
      "execution_count": 144,
      "outputs": [
        {
          "output_type": "execute_result",
          "data": {
            "text/plain": [
              "<matplotlib.collections.PathCollection at 0x7e1cf9d07520>"
            ]
          },
          "metadata": {},
          "execution_count": 144
        },
        {
          "output_type": "display_data",
          "data": {
            "text/plain": [
              "<Figure size 640x480 with 1 Axes>"
            ],
            "image/png": "[encoded data removed]"
          },
          "metadata": {}
        }
      ]
    },
    {
      "cell_type": "code",
      "source": [],
      "metadata": {
        "id": "0MjHQVs3o6_x"
      },
      "execution_count": null,
      "outputs": []
    },
    {
      "cell_type": "markdown",
      "source": [
        "For second plot, express E_pi as a function of theta and E_v.  Express cos_theta_star as a function of theta andd E_v, and then incorrporate these two functions into one function that will pump out the different lines that appear on the second plot.\n",
        "\n",
        "\n",
        "The combines function is based on the expression that the double derivative of N is proportional to."
      ],
      "metadata": {
        "id": "lIh6QCMPqZxf"
      }
    },
    {
      "cell_type": "markdown",
      "source": [],
      "metadata": {
        "id": "KHARDY2Oxd8D"
      }
    },
    {
      "cell_type": "markdown",
      "source": [
        "# **Played around with some of the parameters to try to get the graph to slope back toward the x-axis... but to no avail.  It is almost as if we require two values of E_pi for each value of E_v...perhaps we should take into consideration the non-principal value of the square root...?**\n",
        "\n",
        "\n",
        "See bodge below:"
      ],
      "metadata": {
        "id": "os9RR_AZxeVR"
      }
    },
    {
      "cell_type": "code",
      "source": [
        "theta = 0.03"
      ],
      "metadata": {
        "id": "ze8N-IM6yUB_"
      },
      "execution_count": 198,
      "outputs": []
    },
    {
      "cell_type": "code",
      "source": [
        "# E_pi_2 , E_v_array_2\n",
        "\n",
        "E_v_array_1 = np.linspace( 0 , 0.9999999 , 250 )\n",
        "\n",
        "E_v_array_2 = np.linspace( 0.6 , 0.99 , 250 )"
      ],
      "metadata": {
        "id": "-eatiJ3Hy_L4"
      },
      "execution_count": 242,
      "outputs": []
    },
    {
      "cell_type": "code",
      "source": [
        "cos_theta_star_1 =  ( ( 1 - ( ( E_v_array_1 ** 2 ) / ( E_v_star ** 2 ) ) * ( ( 1 / ( ( cos(theta) ) ** 2 ) ) - 1 ) ) ** ( 1 / 2 ) )  ## Check this equation..."
      ],
      "metadata": {
        "colab": {
          "base_uri": "https://localhost:8080/"
        },
        "id": "chhAYmgF1biA",
        "outputId": "88960a61-edb9-4796-ae6f-3ef5f1432513"
      },
      "execution_count": 243,
      "outputs": [
        {
          "output_type": "stream",
          "name": "stderr",
          "text": [
            "<ipython-input-243-6660158454c4>:1: RuntimeWarning: invalid value encountered in sqrt\n",
            "  cos_theta_star_1 =  ( ( 1 - ( ( E_v_array_1 ** 2 ) / ( E_v_star ** 2 ) ) * ( ( 1 / ( ( cos(theta) ) ** 2 ) ) - 1 ) ) ** ( 1 / 2 ) )  ## Check this equation...\n"
          ]
        }
      ]
    },
    {
      "cell_type": "code",
      "source": [
        "E_pi_1 =  (  (m_pi * E_v_array_1 )    /  (   E_v_star * ( 1 + cos_theta_star_1 )  )   )"
      ],
      "metadata": {
        "id": "Sn4-Bm4i1bVY"
      },
      "execution_count": 244,
      "outputs": []
    },
    {
      "cell_type": "code",
      "source": [
        "cos_theta_star_2 = - ( ( 1 - ( ( E_v_array_2 ** 2 ) / ( E_v_star ** 2 ) ) * ( ( 1 / ( ( cos(theta) ) ** 2 ) ) - 1 ) ) ** ( 1 / 2 ) )  ## Check this equation..."
      ],
      "metadata": {
        "id": "QS1sfkYFyT-Z"
      },
      "execution_count": 245,
      "outputs": []
    },
    {
      "cell_type": "code",
      "source": [
        "E_pi_2 =  (  (m_pi * E_v_array_2 )    /  (   E_v_star * ( 1 + cos_theta_star_2 )  )   )"
      ],
      "metadata": {
        "id": "vmI77T6QyT3n"
      },
      "execution_count": 246,
      "outputs": []
    },
    {
      "cell_type": "code",
      "source": [
        "print(E_pi_2)"
      ],
      "metadata": {
        "colab": {
          "base_uri": "https://localhost:8080/"
        },
        "id": "Kv8ALe22yzVC",
        "outputId": "19754495-8bca-415b-c64a-b0bd8f5ce0d9"
      },
      "execution_count": 247,
      "outputs": [
        {
          "output_type": "stream",
          "name": "stdout",
          "text": [
            "[13.83418079 13.78895845 13.74393315 13.69910319 13.65446688 13.61002255\n",
            " 13.56576855 13.52170323 13.47782497 13.43413216 13.3906232  13.34729651\n",
            " 13.30415051 13.26118367 13.21839442 13.17578126 13.13334266 13.09107712\n",
            " 13.04898316 13.0070593  12.96530408 12.92371604 12.88229376 12.84103579\n",
            " 12.79994074 12.75900719 12.71823376 12.67761906 12.63716172 12.5968604\n",
            " 12.55671373 12.51672039 12.47687905 12.43718838 12.3976471  12.35825389\n",
            " 12.31900747 12.27990657 12.24094993 12.20213627 12.16346435 12.12493294\n",
            " 12.0865408  12.04828672 12.01016946 11.97218784 11.93434066 11.89662672\n",
            " 11.85904484 11.82159386 11.7842726  11.74707992 11.71001465 11.67307565\n",
            " 11.63626179 11.59957195 11.56300499 11.5265598  11.49023527 11.45403031\n",
            " 11.41794381 11.38197468 11.34612184 11.31038421 11.27476072 11.2392503\n",
            " 11.20385189 11.16856444 11.13338688 11.09831818 11.0633573  11.0285032\n",
            " 10.99375484 10.95911121 10.92457127 10.89013401 10.85579841 10.82156347\n",
            " 10.78742817 10.75339152 10.71945252 10.68561016 10.65186345 10.61821142\n",
            " 10.58465306 10.55118739 10.51781344 10.48453023 10.45133677 10.41823209\n",
            " 10.38521523 10.35228521 10.31944106 10.28668182 10.25400652 10.22141419\n",
            " 10.18890388 10.15647462 10.12412545 10.09185541 10.05966354 10.02754887\n",
            "  9.99551046  9.96354733  9.93165853  9.89984309  9.86810007  9.83642848\n",
            "  9.80482738  9.77329578  9.74183274  9.71043728  9.67910842  9.64784521\n",
            "  9.61664665  9.58551179  9.55443963  9.52342919  9.49247949  9.46158953\n",
            "  9.43075833  9.39998488  9.36926818  9.33860723  9.30800101  9.27744851\n",
            "  9.24694869  9.21650054  9.18610302  9.15575508  9.12545567  9.09520375\n",
            "  9.06499824  9.03483807  9.00472216  8.97464943  8.94461876  8.91462906\n",
            "  8.88467921  8.85476807  8.8248945   8.79505736  8.76525546  8.73548765\n",
            "  8.70575272  8.67604946  8.64637667  8.61673309  8.58711749  8.55752859\n",
            "  8.52796511  8.49842573  8.46890915  8.43941401  8.40993896  8.3804826\n",
            "  8.35104353  8.32162031  8.2922115   8.26281561  8.23343113  8.20405652\n",
            "  8.17469022  8.14533063  8.11597613  8.08662504  8.05727568  8.02792631\n",
            "  7.99857516  7.96922041  7.93986021  7.91049267  7.88111584  7.85172772\n",
            "  7.82232627  7.79290941  7.76347497  7.73402074  7.70454445  7.67504377\n",
            "  7.64551628  7.61595952  7.58637093  7.55674788  7.52708765  7.49738743\n",
            "  7.46764434  7.43785538  7.40801744  7.37812731  7.34818168  7.31817708\n",
            "  7.28810994  7.25797653  7.22777299  7.19749529  7.16713924  7.13670046\n",
            "  7.1061744   7.07555628  7.04484112  7.01402371  6.98309859  6.95206001\n",
            "  6.92090197  6.88961812  6.85820181  6.82664602  6.79494332  6.76308589\n",
            "  6.73106544  6.69887316  6.66649974  6.63393524  6.60116909  6.56819002\n",
            "  6.53498596  6.50154399  6.46785025  6.43388981  6.39964657  6.36510315\n",
            "  6.33024069  6.2950387   6.25947484  6.22352467  6.18716139  6.15035548\n",
            "  6.11307428  6.07528156  6.03693685  5.99799482  5.95840432  5.91810737\n",
            "  5.87703771  5.83511912  5.79226318  5.74836628  5.70330582  5.65693483\n",
            "  5.60907471  5.55950473  5.50794675  5.45404183  5.39731315  5.33710345\n",
            "  5.27246234  5.2019227   5.12299439  5.03075727]\n"
          ]
        }
      ]
    },
    {
      "cell_type": "code",
      "source": [
        "from functools import reduce\n",
        "\n",
        "#print(E_pi_1) ## 4.361540383038922\n",
        "\n",
        "display(reduce(max, E_pi_1))"
      ],
      "metadata": {
        "colab": {
          "base_uri": "https://localhost:8080/",
          "height": 34
        },
        "id": "DXaa5TeC2Oi8",
        "outputId": "942da1a7-80a6-42ac-b502-ff45f3f86dfd"
      },
      "execution_count": 248,
      "outputs": [
        {
          "output_type": "display_data",
          "data": {
            "text/plain": [
              "4.4410650019910936"
            ]
          },
          "metadata": {}
        }
      ]
    },
    {
      "cell_type": "code",
      "source": [
        "plt.scatter( E_pi_2 , E_v_array_2 , s = 0.7 , c = \"r\")\n",
        "\n",
        "plt.scatter( E_pi_1 , E_v_array_1 , s = 0.7 )\n",
        "\n",
        "plt.xlim(0, 15)\n",
        "plt.ylim(0, 2)"
      ],
      "metadata": {
        "colab": {
          "base_uri": "https://localhost:8080/",
          "height": 452
        },
        "id": "yk83a_LYxk1x",
        "outputId": "b5a08990-a7fa-4a6e-a527-20ebc0c6b786"
      },
      "execution_count": 249,
      "outputs": [
        {
          "output_type": "execute_result",
          "data": {
            "text/plain": [
              "(0.0, 2.0)"
            ]
          },
          "metadata": {},
          "execution_count": 249
        },
        {
          "output_type": "display_data",
          "data": {
            "text/plain": [
              "<Figure size 640x480 with 1 Axes>"
            ],
            "image/png": "[encoded data removed]"
          },
          "metadata": {}
        }
      ]
    },
    {
      "cell_type": "code",
      "source": [],
      "metadata": {
        "id": "XNKxJN7ZyuQD"
      },
      "execution_count": null,
      "outputs": []
    }
  ]
}